{
  "nbformat": 4,
  "nbformat_minor": 0,
  "metadata": {
    "colab": {
      "name": "EVA4_Session7.ipynb",
      "provenance": [],
      "collapsed_sections": [],
      "authorship_tag": "ABX9TyMLmeN6ZFi2me7XTOUiY0bD"
    },
    "kernelspec": {
      "name": "python3",
      "display_name": "Python 3"
    },
    "accelerator": "GPU"
  },
  "cells": [
    {
      "cell_type": "markdown",
      "metadata": {
        "id": "34ETYsT4jdT-",
        "colab_type": "text"
      },
      "source": [
        "# CNN on CIFAR10\n",
        "---\n",
        "\n",
        "1) Change the code such that it uses GPU\n",
        "\n",
        "2) Changed the architecture to C1C2C3C40 (basically 3 MPs)\n",
        "\n",
        "3) Total RF (must be more than 44) = 102\n",
        "\n",
        "4) One of the layers use Depthwise Separable Convolution\n",
        "\n",
        "5) One of the layers use Dilated Convolution\n",
        "\n",
        "6) Used GAP and added FC after GAP to target number of classes\n",
        "\n",
        "7) Best Test Accuracy = 85.3%, number of epochs = 50, Total Params = 906,528. \n",
        "\n",
        "8) Used image augmentation\n",
        "\n",
        "[Link to Google Colab Code File](https://colab.research.google.com/drive/1gsmdBMLnRb7J9piNocCxsu-FcH8A1YoK)\n",
        "\n",
        "[Link to helper python files](https://github.com/genigarus/EVA4/tree/master/S7/python_files)"
      ]
    },
    {
      "cell_type": "markdown",
      "metadata": {
        "id": "vhcDOTXKRLjK",
        "colab_type": "text"
      },
      "source": [
        "## Google Drive Connection"
      ]
    },
    {
      "cell_type": "code",
      "metadata": {
        "id": "RqxgWbRyRP6m",
        "colab_type": "code",
        "outputId": "55f70318-6ddd-4844-9915-2883e9bfbea2",
        "colab": {
          "base_uri": "https://localhost:8080/",
          "height": 224
        }
      },
      "source": [
        "## Connecting google drive to colab\n",
        "\n",
        "!apt-get install -y -qq software-properties-common python-software-properties module-init-tools\n",
        "!add-apt-repository -y ppa:alessandro-strada/ppa 2>&1 > /dev/null\n",
        "!apt-get update -qq 2>&1 > /dev/null\n",
        "!apt-get -y install -qq google-drive-ocamlfuse fuse\n",
        "from google.colab import auth\n",
        "auth.authenticate_user()\n",
        "from oauth2client.client import GoogleCredentials\n",
        "creds = GoogleCredentials.get_application_default()\n",
        "import getpass\n",
        "!google-drive-ocamlfuse -headless -id={creds.client_id} -secret={creds.client_secret} < /dev/null 2>&1 | grep URL\n",
        "vcode = getpass.getpass()\n",
        "!echo {vcode} | google-drive-ocamlfuse -headless -id={creds.client_id} -secret={creds.client_secret}"
      ],
      "execution_count": 1,
      "outputs": [
        {
          "output_type": "stream",
          "text": [
            "E: Package 'python-software-properties' has no installation candidate\n",
            "Selecting previously unselected package google-drive-ocamlfuse.\n",
            "(Reading database ... 145118 files and directories currently installed.)\n",
            "Preparing to unpack .../google-drive-ocamlfuse_0.7.17-0ubuntu2~ubuntu18.04.1_amd64.deb ...\n",
            "Unpacking google-drive-ocamlfuse (0.7.17-0ubuntu2~ubuntu18.04.1) ...\n",
            "Setting up google-drive-ocamlfuse (0.7.17-0ubuntu2~ubuntu18.04.1) ...\n",
            "Processing triggers for man-db (2.8.3-2ubuntu0.1) ...\n",
            "Please, open the following URL in a web browser: https://accounts.google.com/o/oauth2/auth?client_id=32555940559.apps.googleusercontent.com&redirect_uri=urn%3Aietf%3Awg%3Aoauth%3A2.0%3Aoob&scope=https%3A%2F%2Fwww.googleapis.com%2Fauth%2Fdrive&response_type=code&access_type=offline&approval_prompt=force\n",
            "··········\n",
            "Please, open the following URL in a web browser: https://accounts.google.com/o/oauth2/auth?client_id=32555940559.apps.googleusercontent.com&redirect_uri=urn%3Aietf%3Awg%3Aoauth%3A2.0%3Aoob&scope=https%3A%2F%2Fwww.googleapis.com%2Fauth%2Fdrive&response_type=code&access_type=offline&approval_prompt=force\n",
            "Please enter the verification code: Access token retrieved correctly.\n"
          ],
          "name": "stdout"
        }
      ]
    },
    {
      "cell_type": "code",
      "metadata": {
        "id": "nHhs9KEfRZjk",
        "colab_type": "code",
        "colab": {}
      },
      "source": [
        "!mkdir -p drive\n",
        "!google-drive-ocamlfuse drive"
      ],
      "execution_count": 0,
      "outputs": []
    },
    {
      "cell_type": "markdown",
      "metadata": {
        "id": "z_teaMo7mogV",
        "colab_type": "text"
      },
      "source": [
        "### Change working directory to where python files are located"
      ]
    },
    {
      "cell_type": "code",
      "metadata": {
        "id": "rwYfid1emjpB",
        "colab_type": "code",
        "outputId": "84c086d0-880f-40b9-f0fa-4d9f0e5093eb",
        "colab": {
          "base_uri": "https://localhost:8080/",
          "height": 34
        }
      },
      "source": [
        "import os\n",
        "os.chdir('drive/EVA4/Session7/python_files')\n",
        "print(\"Current working directory: \"+os.getcwd())"
      ],
      "execution_count": 3,
      "outputs": [
        {
          "output_type": "stream",
          "text": [
            "Current working directory: /content/drive/EVA4/Session7/python_files\n"
          ],
          "name": "stdout"
        }
      ]
    },
    {
      "cell_type": "markdown",
      "metadata": {
        "id": "UbKUXF24RRMN",
        "colab_type": "text"
      },
      "source": [
        "# Imports"
      ]
    },
    {
      "cell_type": "code",
      "metadata": {
        "id": "9HZW8SRCisol",
        "colab_type": "code",
        "outputId": "c231a5f0-2c68-4936-b0cc-35019a6d9d65",
        "colab": {
          "base_uri": "https://localhost:8080/",
          "height": 34
        }
      },
      "source": [
        "from __future__ import print_function\n",
        "import math\n",
        "import numpy\n",
        "import torch\n",
        "import torch.nn as nn\n",
        "import torch.nn.functional as F\n",
        "import torch.optim as optim\n",
        "from torchvision import datasets, transforms\n",
        "from torch.optim.lr_scheduler import StepLR\n",
        "\n",
        "%matplotlib inline\n",
        "import matplotlib.pyplot as plt\n",
        "\n",
        "!pip install torchsummary\n",
        "from torchsummary import summary"
      ],
      "execution_count": 4,
      "outputs": [
        {
          "output_type": "stream",
          "text": [
            "Requirement already satisfied: torchsummary in /usr/local/lib/python3.6/dist-packages (1.5.1)\n"
          ],
          "name": "stdout"
        }
      ]
    },
    {
      "cell_type": "markdown",
      "metadata": {
        "id": "S0Hoq45PjiFD",
        "colab_type": "text"
      },
      "source": [
        "# Model"
      ]
    },
    {
      "cell_type": "code",
      "metadata": {
        "id": "lzaE8O4eGyXH",
        "colab_type": "code",
        "colab": {}
      },
      "source": [
        "from model import SeparableConv2d, Net"
      ],
      "execution_count": 0,
      "outputs": []
    },
    {
      "cell_type": "markdown",
      "metadata": {
        "id": "Ix0QUoy6jluT",
        "colab_type": "text"
      },
      "source": [
        "# Training Code\n"
      ]
    },
    {
      "cell_type": "code",
      "metadata": {
        "id": "MnA7nomfkFTs",
        "colab_type": "code",
        "colab": {}
      },
      "source": [
        "from training_testing import train"
      ],
      "execution_count": 0,
      "outputs": []
    },
    {
      "cell_type": "markdown",
      "metadata": {
        "id": "OQoJexNYjwVC",
        "colab_type": "text"
      },
      "source": [
        "# Testing Code\n"
      ]
    },
    {
      "cell_type": "code",
      "metadata": {
        "id": "YfAEENyokF4m",
        "colab_type": "code",
        "colab": {}
      },
      "source": [
        "from training_testing import test"
      ],
      "execution_count": 0,
      "outputs": []
    },
    {
      "cell_type": "markdown",
      "metadata": {
        "id": "GYNaud-dj00L",
        "colab_type": "text"
      },
      "source": [
        "# Regularization Techniques (dropout, L1, L2, etc)\n"
      ]
    },
    {
      "cell_type": "code",
      "metadata": {
        "id": "ID1sfLdVkHzt",
        "colab_type": "code",
        "colab": {}
      },
      "source": [
        "from regularization import  L1_regularization\n"
      ],
      "execution_count": 0,
      "outputs": []
    },
    {
      "cell_type": "markdown",
      "metadata": {
        "id": "MTkj37bdj5cf",
        "colab_type": "text"
      },
      "source": [
        "# Dataloader/Transformations/Image-augmentations\n"
      ]
    },
    {
      "cell_type": "code",
      "metadata": {
        "id": "Y2ZSt1RlkI-H",
        "colab_type": "code",
        "colab": {}
      },
      "source": [
        "from data_loader import generate_train_test_loader\n"
      ],
      "execution_count": 0,
      "outputs": []
    },
    {
      "cell_type": "markdown",
      "metadata": {
        "id": "JAM9bGxIj_OW",
        "colab_type": "text"
      },
      "source": [
        "# Misc Items like finding misclassified images"
      ]
    },
    {
      "cell_type": "code",
      "metadata": {
        "id": "DTj6GpF8xRhF",
        "colab_type": "code",
        "colab": {}
      },
      "source": [
        "from utility import *"
      ],
      "execution_count": 0,
      "outputs": []
    },
    {
      "cell_type": "markdown",
      "metadata": {
        "id": "O4DaoOEGE8Dc",
        "colab_type": "text"
      },
      "source": [
        "# Execution(Run models for 50 epochs)"
      ]
    },
    {
      "cell_type": "code",
      "metadata": {
        "id": "flFgjGvhSM8g",
        "colab_type": "code",
        "colab": {}
      },
      "source": [
        "# google drive path for saving models, graphs and images\n",
        "PATH = \"drive/EVA4/Session7\""
      ],
      "execution_count": 0,
      "outputs": []
    },
    {
      "cell_type": "markdown",
      "metadata": {
        "id": "OefSYHBpky0D",
        "colab_type": "text"
      },
      "source": [
        "## Generating Data Loaders"
      ]
    },
    {
      "cell_type": "code",
      "metadata": {
        "id": "V_6Aso8ok3iz",
        "colab_type": "code",
        "outputId": "d06aa37f-51b0-47f3-b4bb-0808b344f96d",
        "colab": {
          "base_uri": "https://localhost:8080/",
          "height": 119
        }
      },
      "source": [
        "SEED = 1\n",
        "means, stdevs = find_cifar10_normalization_values()\n",
        "train_loader, test_loader, test_data = generate_train_test_loader(SEED, means, stdevs)"
      ],
      "execution_count": 12,
      "outputs": [
        {
          "output_type": "stream",
          "text": [
            "Files already downloaded and verified\n",
            "means: (0.0, 0.0, 0.0)\n",
            "stdevs: (0.24703233, 0.24348505, 0.26158768)\n",
            "transforms.Normalize(mean = (0.0, 0.0, 0.0), std = (0.24703233, 0.24348505, 0.26158768))\n",
            "Files already downloaded and verified\n",
            "Files already downloaded and verified\n"
          ],
          "name": "stdout"
        }
      ]
    },
    {
      "cell_type": "code",
      "metadata": {
        "id": "ON7Owxxo8l29",
        "colab_type": "code",
        "outputId": "48f5bda1-7db7-4039-d540-0b91ae8d140a",
        "colab": {
          "base_uri": "https://localhost:8080/",
          "height": 1000
        }
      },
      "source": [
        "print(\"*\"*50)\n",
        "print(\"*\"*20,\"With Dropout, L1 and L2 Regularization & Image augmentation\",\"*\"*20)\n",
        "print(\"*\"*50)\n",
        "print(\"\\n Initializing...\")\n",
        "aug_l1_l2_reg_train_losses = []\n",
        "aug_l1_l2_reg_test_losses = []\n",
        "aug_l1_l2_reg_train_acc = []\n",
        "aug_l1_l2_reg_test_acc = []\n",
        "dropout_value = 0.2\n",
        "LAMBDA1=1e-5\n",
        "LR=0.01\n",
        "MOMENTUM=0.9\n",
        "WEIGHT_DECAY=1e-5\n",
        "inp_size = (3, 32, 32)\n",
        "device = set_device()\n",
        "\n",
        "print(\"Creating model...\")\n",
        "aug_l1_l2_model =  Net(dropout_value).to(device)\n",
        "\n",
        "print(\"\\n Model Summary:\")\n",
        "summary(aug_l1_l2_model, input_size=inp_size)\n",
        "optimizer = optim.SGD(aug_l1_l2_model.parameters(), lr=LR, momentum=MOMENTUM, weight_decay=WEIGHT_DECAY)\n",
        "\n",
        "print(\"\\n Training the model...\")\n",
        "EPOCHS = 50\n",
        "for epoch in range(EPOCHS):\n",
        "    print(\"EPOCH:\", epoch+1)\n",
        "    train(aug_l1_l2_model, device, train_loader, optimizer, epoch, aug_l1_l2_reg_train_losses, aug_l1_l2_reg_train_acc, l1=True, lambda1=LAMBDA1)\n",
        "    test(aug_l1_l2_model, device, test_loader, aug_l1_l2_reg_test_losses, aug_l1_l2_reg_test_acc)\n",
        "\n",
        "print(\"\\n Saving trained model...\")\n",
        "torch.save(aug_l1_l2_model.state_dict(), \"../model/cifar10_aug_model_l1_l2.pth\")\n",
        "\n",
        "print(\"\\n Visualizing:\")\n",
        "visualize_graph(aug_l1_l2_reg_train_losses, aug_l1_l2_reg_train_acc, aug_l1_l2_reg_test_losses, aug_l1_l2_reg_test_acc)"
      ],
      "execution_count": 16,
      "outputs": [
        {
          "output_type": "stream",
          "text": [
            "**************************************************\n",
            "******************** With Dropout, L1 and L2 Regularization & Image augmentation ********************\n",
            "**************************************************\n",
            "\n",
            " Initializing...\n"
          ],
          "name": "stdout"
        },
        {
          "output_type": "stream",
          "text": [
            "\r  0%|          | 0/391 [00:00<?, ?it/s]"
          ],
          "name": "stderr"
        },
        {
          "output_type": "stream",
          "text": [
            "Creating model...\n",
            "\n",
            " Model Summary:\n",
            "----------------------------------------------------------------\n",
            "        Layer (type)               Output Shape         Param #\n",
            "================================================================\n",
            "            Conv2d-1           [-1, 32, 32, 32]             864\n",
            "              ReLU-2           [-1, 32, 32, 32]               0\n",
            "       BatchNorm2d-3           [-1, 32, 32, 32]              64\n",
            "           Dropout-4           [-1, 32, 32, 32]               0\n",
            "            Conv2d-5           [-1, 64, 32, 32]          18,432\n",
            "              ReLU-6           [-1, 64, 32, 32]               0\n",
            "       BatchNorm2d-7           [-1, 64, 32, 32]             128\n",
            "           Dropout-8           [-1, 64, 32, 32]               0\n",
            "            Conv2d-9          [-1, 128, 32, 32]          73,728\n",
            "             ReLU-10          [-1, 128, 32, 32]               0\n",
            "      BatchNorm2d-11          [-1, 128, 32, 32]             256\n",
            "          Dropout-12          [-1, 128, 32, 32]               0\n",
            "           Conv2d-13           [-1, 32, 32, 32]           4,096\n",
            "        MaxPool2d-14           [-1, 32, 16, 16]               0\n",
            "           Conv2d-15           [-1, 64, 16, 16]          18,432\n",
            "             ReLU-16           [-1, 64, 16, 16]               0\n",
            "      BatchNorm2d-17           [-1, 64, 16, 16]             128\n",
            "          Dropout-18           [-1, 64, 16, 16]               0\n",
            "           Conv2d-19           [-1, 64, 18, 18]              64\n",
            "           Conv2d-20          [-1, 128, 18, 18]           8,192\n",
            "  SeparableConv2d-21          [-1, 128, 18, 18]               0\n",
            "           Conv2d-22           [-1, 64, 18, 18]           8,192\n",
            "        MaxPool2d-23             [-1, 64, 9, 9]               0\n",
            "           Conv2d-24            [-1, 128, 9, 9]          73,728\n",
            "             ReLU-25            [-1, 128, 9, 9]               0\n",
            "      BatchNorm2d-26            [-1, 128, 9, 9]             256\n",
            "          Dropout-27            [-1, 128, 9, 9]               0\n",
            "           Conv2d-28            [-1, 256, 9, 9]         294,912\n",
            "             ReLU-29            [-1, 256, 9, 9]               0\n",
            "      BatchNorm2d-30            [-1, 256, 9, 9]             512\n",
            "          Dropout-31            [-1, 256, 9, 9]               0\n",
            "           Conv2d-32             [-1, 64, 9, 9]          16,384\n",
            "        MaxPool2d-33             [-1, 64, 4, 4]               0\n",
            "           Conv2d-34            [-1, 128, 4, 4]          73,728\n",
            "             ReLU-35            [-1, 128, 4, 4]               0\n",
            "      BatchNorm2d-36            [-1, 128, 4, 4]             256\n",
            "          Dropout-37            [-1, 128, 4, 4]               0\n",
            "           Conv2d-38            [-1, 256, 4, 4]         294,912\n",
            "             ReLU-39            [-1, 256, 4, 4]               0\n",
            "      BatchNorm2d-40            [-1, 256, 4, 4]             512\n",
            "          Dropout-41            [-1, 256, 4, 4]               0\n",
            "        AvgPool2d-42            [-1, 256, 1, 1]               0\n",
            "           Conv2d-43             [-1, 64, 1, 1]          16,384\n",
            "           Conv2d-44             [-1, 32, 1, 1]           2,048\n",
            "           Conv2d-45             [-1, 10, 1, 1]             320\n",
            "================================================================\n",
            "Total params: 906,528\n",
            "Trainable params: 906,528\n",
            "Non-trainable params: 0\n",
            "----------------------------------------------------------------\n",
            "Input size (MB): 0.01\n",
            "Forward/backward pass size (MB): 9.99\n",
            "Params size (MB): 3.46\n",
            "Estimated Total Size (MB): 13.46\n",
            "----------------------------------------------------------------\n",
            "\n",
            " Training the model...\n",
            "EPOCH: 1\n"
          ],
          "name": "stdout"
        },
        {
          "output_type": "stream",
          "text": [
            "Loss=1.2687398195266724 Batch_id=390 Accuracy=44.08: 100%|██████████| 391/391 [00:22<00:00, 17.53it/s]\n",
            "  0%|          | 0/391 [00:00<?, ?it/s]"
          ],
          "name": "stderr"
        },
        {
          "output_type": "stream",
          "text": [
            "\n",
            "Test set: Average loss: 1.5077, Accuracy: 4899/10000 (48.99%)\n",
            "\n",
            "EPOCH: 2\n"
          ],
          "name": "stdout"
        },
        {
          "output_type": "stream",
          "text": [
            "Loss=1.0103574991226196 Batch_id=390 Accuracy=64.30: 100%|██████████| 391/391 [00:22<00:00, 17.54it/s]\n",
            "  0%|          | 0/391 [00:00<?, ?it/s]"
          ],
          "name": "stderr"
        },
        {
          "output_type": "stream",
          "text": [
            "\n",
            "Test set: Average loss: 1.0240, Accuracy: 6443/10000 (64.43%)\n",
            "\n",
            "EPOCH: 3\n"
          ],
          "name": "stdout"
        },
        {
          "output_type": "stream",
          "text": [
            "Loss=1.0310906171798706 Batch_id=390 Accuracy=71.39: 100%|██████████| 391/391 [00:22<00:00, 17.31it/s]\n",
            "  0%|          | 0/391 [00:00<?, ?it/s]"
          ],
          "name": "stderr"
        },
        {
          "output_type": "stream",
          "text": [
            "\n",
            "Test set: Average loss: 0.8393, Accuracy: 7156/10000 (71.56%)\n",
            "\n",
            "EPOCH: 4\n"
          ],
          "name": "stdout"
        },
        {
          "output_type": "stream",
          "text": [
            "Loss=0.9587575793266296 Batch_id=390 Accuracy=74.89: 100%|██████████| 391/391 [00:22<00:00, 17.77it/s]\n",
            "  0%|          | 0/391 [00:00<?, ?it/s]"
          ],
          "name": "stderr"
        },
        {
          "output_type": "stream",
          "text": [
            "\n",
            "Test set: Average loss: 0.6957, Accuracy: 7576/10000 (75.76%)\n",
            "\n",
            "EPOCH: 5\n"
          ],
          "name": "stdout"
        },
        {
          "output_type": "stream",
          "text": [
            "Loss=0.8272038102149963 Batch_id=390 Accuracy=77.46: 100%|██████████| 391/391 [00:22<00:00, 17.32it/s]\n",
            "  0%|          | 0/391 [00:00<?, ?it/s]"
          ],
          "name": "stderr"
        },
        {
          "output_type": "stream",
          "text": [
            "\n",
            "Test set: Average loss: 0.6536, Accuracy: 7770/10000 (77.70%)\n",
            "\n",
            "EPOCH: 6\n"
          ],
          "name": "stdout"
        },
        {
          "output_type": "stream",
          "text": [
            "Loss=0.6952941417694092 Batch_id=390 Accuracy=79.11: 100%|██████████| 391/391 [00:22<00:00, 17.63it/s]\n",
            "  0%|          | 0/391 [00:00<?, ?it/s]"
          ],
          "name": "stderr"
        },
        {
          "output_type": "stream",
          "text": [
            "\n",
            "Test set: Average loss: 0.8053, Accuracy: 7315/10000 (73.15%)\n",
            "\n",
            "EPOCH: 7\n"
          ],
          "name": "stdout"
        },
        {
          "output_type": "stream",
          "text": [
            "Loss=0.6607272624969482 Batch_id=390 Accuracy=80.31: 100%|██████████| 391/391 [00:22<00:00, 17.32it/s]\n",
            "  0%|          | 0/391 [00:00<?, ?it/s]"
          ],
          "name": "stderr"
        },
        {
          "output_type": "stream",
          "text": [
            "\n",
            "Test set: Average loss: 0.6221, Accuracy: 7879/10000 (78.79%)\n",
            "\n",
            "EPOCH: 8\n"
          ],
          "name": "stdout"
        },
        {
          "output_type": "stream",
          "text": [
            "Loss=0.7070140838623047 Batch_id=390 Accuracy=81.56: 100%|██████████| 391/391 [00:22<00:00, 17.36it/s]\n",
            "  0%|          | 0/391 [00:00<?, ?it/s]"
          ],
          "name": "stderr"
        },
        {
          "output_type": "stream",
          "text": [
            "\n",
            "Test set: Average loss: 0.5830, Accuracy: 8090/10000 (80.90%)\n",
            "\n",
            "EPOCH: 9\n"
          ],
          "name": "stdout"
        },
        {
          "output_type": "stream",
          "text": [
            "Loss=0.6933215856552124 Batch_id=390 Accuracy=82.55: 100%|██████████| 391/391 [00:22<00:00, 17.41it/s]\n",
            "  0%|          | 0/391 [00:00<?, ?it/s]"
          ],
          "name": "stderr"
        },
        {
          "output_type": "stream",
          "text": [
            "\n",
            "Test set: Average loss: 0.6354, Accuracy: 7881/10000 (78.81%)\n",
            "\n",
            "EPOCH: 10\n"
          ],
          "name": "stdout"
        },
        {
          "output_type": "stream",
          "text": [
            "Loss=0.6475836634635925 Batch_id=390 Accuracy=83.57: 100%|██████████| 391/391 [00:22<00:00, 17.45it/s]\n",
            "  0%|          | 0/391 [00:00<?, ?it/s]"
          ],
          "name": "stderr"
        },
        {
          "output_type": "stream",
          "text": [
            "\n",
            "Test set: Average loss: 0.5662, Accuracy: 8116/10000 (81.16%)\n",
            "\n",
            "EPOCH: 11\n"
          ],
          "name": "stdout"
        },
        {
          "output_type": "stream",
          "text": [
            "Loss=0.5981508493423462 Batch_id=390 Accuracy=84.02: 100%|██████████| 391/391 [00:22<00:00, 17.35it/s]\n",
            "  0%|          | 0/391 [00:00<?, ?it/s]"
          ],
          "name": "stderr"
        },
        {
          "output_type": "stream",
          "text": [
            "\n",
            "Test set: Average loss: 0.5422, Accuracy: 8139/10000 (81.39%)\n",
            "\n",
            "EPOCH: 12\n"
          ],
          "name": "stdout"
        },
        {
          "output_type": "stream",
          "text": [
            "Loss=0.7128607630729675 Batch_id=390 Accuracy=85.12: 100%|██████████| 391/391 [00:22<00:00, 18.14it/s]\n",
            "  0%|          | 0/391 [00:00<?, ?it/s]"
          ],
          "name": "stderr"
        },
        {
          "output_type": "stream",
          "text": [
            "\n",
            "Test set: Average loss: 0.5319, Accuracy: 8245/10000 (82.45%)\n",
            "\n",
            "EPOCH: 13\n"
          ],
          "name": "stdout"
        },
        {
          "output_type": "stream",
          "text": [
            "Loss=0.5554184317588806 Batch_id=390 Accuracy=85.57: 100%|██████████| 391/391 [00:22<00:00, 17.49it/s]\n",
            "  0%|          | 0/391 [00:00<?, ?it/s]"
          ],
          "name": "stderr"
        },
        {
          "output_type": "stream",
          "text": [
            "\n",
            "Test set: Average loss: 0.5641, Accuracy: 8211/10000 (82.11%)\n",
            "\n",
            "EPOCH: 14\n"
          ],
          "name": "stdout"
        },
        {
          "output_type": "stream",
          "text": [
            "Loss=0.6181403398513794 Batch_id=390 Accuracy=86.10: 100%|██████████| 391/391 [00:22<00:00, 17.49it/s]\n",
            "  0%|          | 0/391 [00:00<?, ?it/s]"
          ],
          "name": "stderr"
        },
        {
          "output_type": "stream",
          "text": [
            "\n",
            "Test set: Average loss: 0.5515, Accuracy: 8191/10000 (81.91%)\n",
            "\n",
            "EPOCH: 15\n"
          ],
          "name": "stdout"
        },
        {
          "output_type": "stream",
          "text": [
            "Loss=0.527347207069397 Batch_id=390 Accuracy=86.74: 100%|██████████| 391/391 [00:22<00:00, 18.27it/s]\n",
            "  0%|          | 0/391 [00:00<?, ?it/s]"
          ],
          "name": "stderr"
        },
        {
          "output_type": "stream",
          "text": [
            "\n",
            "Test set: Average loss: 0.5154, Accuracy: 8312/10000 (83.12%)\n",
            "\n",
            "EPOCH: 16\n"
          ],
          "name": "stdout"
        },
        {
          "output_type": "stream",
          "text": [
            "Loss=0.6268503665924072 Batch_id=390 Accuracy=87.30: 100%|██████████| 391/391 [00:22<00:00, 17.34it/s]\n",
            "  0%|          | 0/391 [00:00<?, ?it/s]"
          ],
          "name": "stderr"
        },
        {
          "output_type": "stream",
          "text": [
            "\n",
            "Test set: Average loss: 0.5247, Accuracy: 8335/10000 (83.35%)\n",
            "\n",
            "EPOCH: 17\n"
          ],
          "name": "stdout"
        },
        {
          "output_type": "stream",
          "text": [
            "Loss=0.7927371859550476 Batch_id=390 Accuracy=87.78: 100%|██████████| 391/391 [00:22<00:00, 17.37it/s]\n",
            "  0%|          | 0/391 [00:00<?, ?it/s]"
          ],
          "name": "stderr"
        },
        {
          "output_type": "stream",
          "text": [
            "\n",
            "Test set: Average loss: 0.5255, Accuracy: 8334/10000 (83.34%)\n",
            "\n",
            "EPOCH: 18\n"
          ],
          "name": "stdout"
        },
        {
          "output_type": "stream",
          "text": [
            "Loss=0.43745824694633484 Batch_id=390 Accuracy=88.48: 100%|██████████| 391/391 [00:22<00:00, 17.21it/s]\n",
            "  0%|          | 0/391 [00:00<?, ?it/s]"
          ],
          "name": "stderr"
        },
        {
          "output_type": "stream",
          "text": [
            "\n",
            "Test set: Average loss: 0.4865, Accuracy: 8423/10000 (84.23%)\n",
            "\n",
            "EPOCH: 19\n"
          ],
          "name": "stdout"
        },
        {
          "output_type": "stream",
          "text": [
            "Loss=0.44883736968040466 Batch_id=390 Accuracy=88.77: 100%|██████████| 391/391 [00:22<00:00, 17.39it/s]\n",
            "  0%|          | 0/391 [00:00<?, ?it/s]"
          ],
          "name": "stderr"
        },
        {
          "output_type": "stream",
          "text": [
            "\n",
            "Test set: Average loss: 0.5748, Accuracy: 8189/10000 (81.89%)\n",
            "\n",
            "EPOCH: 20\n"
          ],
          "name": "stdout"
        },
        {
          "output_type": "stream",
          "text": [
            "Loss=0.5489753484725952 Batch_id=390 Accuracy=88.90: 100%|██████████| 391/391 [00:22<00:00, 17.51it/s]\n",
            "  0%|          | 0/391 [00:00<?, ?it/s]"
          ],
          "name": "stderr"
        },
        {
          "output_type": "stream",
          "text": [
            "\n",
            "Test set: Average loss: 0.5268, Accuracy: 8366/10000 (83.66%)\n",
            "\n",
            "EPOCH: 21\n"
          ],
          "name": "stdout"
        },
        {
          "output_type": "stream",
          "text": [
            "Loss=0.5312833189964294 Batch_id=390 Accuracy=89.47: 100%|██████████| 391/391 [00:22<00:00, 17.53it/s]\n",
            "  0%|          | 0/391 [00:00<?, ?it/s]"
          ],
          "name": "stderr"
        },
        {
          "output_type": "stream",
          "text": [
            "\n",
            "Test set: Average loss: 0.5368, Accuracy: 8334/10000 (83.34%)\n",
            "\n",
            "EPOCH: 22\n"
          ],
          "name": "stdout"
        },
        {
          "output_type": "stream",
          "text": [
            "Loss=0.5015808939933777 Batch_id=390 Accuracy=89.52: 100%|██████████| 391/391 [00:22<00:00, 17.41it/s]\n",
            "  0%|          | 0/391 [00:00<?, ?it/s]"
          ],
          "name": "stderr"
        },
        {
          "output_type": "stream",
          "text": [
            "\n",
            "Test set: Average loss: 0.5330, Accuracy: 8314/10000 (83.14%)\n",
            "\n",
            "EPOCH: 23\n"
          ],
          "name": "stdout"
        },
        {
          "output_type": "stream",
          "text": [
            "Loss=0.5613820552825928 Batch_id=390 Accuracy=90.13: 100%|██████████| 391/391 [00:22<00:00, 18.50it/s]\n",
            "  0%|          | 0/391 [00:00<?, ?it/s]"
          ],
          "name": "stderr"
        },
        {
          "output_type": "stream",
          "text": [
            "\n",
            "Test set: Average loss: 0.5480, Accuracy: 8309/10000 (83.09%)\n",
            "\n",
            "EPOCH: 24\n"
          ],
          "name": "stdout"
        },
        {
          "output_type": "stream",
          "text": [
            "Loss=0.611650288105011 Batch_id=390 Accuracy=90.74: 100%|██████████| 391/391 [00:22<00:00, 17.35it/s]\n",
            "  0%|          | 0/391 [00:00<?, ?it/s]"
          ],
          "name": "stderr"
        },
        {
          "output_type": "stream",
          "text": [
            "\n",
            "Test set: Average loss: 0.5937, Accuracy: 8285/10000 (82.85%)\n",
            "\n",
            "EPOCH: 25\n"
          ],
          "name": "stdout"
        },
        {
          "output_type": "stream",
          "text": [
            "Loss=0.425148069858551 Batch_id=390 Accuracy=90.69: 100%|██████████| 391/391 [00:22<00:00, 18.64it/s]\n",
            "  0%|          | 0/391 [00:00<?, ?it/s]"
          ],
          "name": "stderr"
        },
        {
          "output_type": "stream",
          "text": [
            "\n",
            "Test set: Average loss: 0.5400, Accuracy: 8391/10000 (83.91%)\n",
            "\n",
            "EPOCH: 26\n"
          ],
          "name": "stdout"
        },
        {
          "output_type": "stream",
          "text": [
            "Loss=0.5096772313117981 Batch_id=390 Accuracy=91.03: 100%|██████████| 391/391 [00:22<00:00, 17.59it/s]\n",
            "  0%|          | 0/391 [00:00<?, ?it/s]"
          ],
          "name": "stderr"
        },
        {
          "output_type": "stream",
          "text": [
            "\n",
            "Test set: Average loss: 0.5896, Accuracy: 8296/10000 (82.96%)\n",
            "\n",
            "EPOCH: 27\n"
          ],
          "name": "stdout"
        },
        {
          "output_type": "stream",
          "text": [
            "Loss=0.6289461851119995 Batch_id=390 Accuracy=91.13: 100%|██████████| 391/391 [00:22<00:00, 17.58it/s]\n",
            "  0%|          | 0/391 [00:00<?, ?it/s]"
          ],
          "name": "stderr"
        },
        {
          "output_type": "stream",
          "text": [
            "\n",
            "Test set: Average loss: 0.5548, Accuracy: 8363/10000 (83.63%)\n",
            "\n",
            "EPOCH: 28\n"
          ],
          "name": "stdout"
        },
        {
          "output_type": "stream",
          "text": [
            "Loss=0.563931941986084 Batch_id=390 Accuracy=91.33: 100%|██████████| 391/391 [00:22<00:00, 18.55it/s]\n",
            "  0%|          | 0/391 [00:00<?, ?it/s]"
          ],
          "name": "stderr"
        },
        {
          "output_type": "stream",
          "text": [
            "\n",
            "Test set: Average loss: 0.5369, Accuracy: 8403/10000 (84.03%)\n",
            "\n",
            "EPOCH: 29\n"
          ],
          "name": "stdout"
        },
        {
          "output_type": "stream",
          "text": [
            "Loss=0.38977760076522827 Batch_id=390 Accuracy=91.82: 100%|██████████| 391/391 [00:22<00:00, 17.49it/s]\n",
            "  0%|          | 0/391 [00:00<?, ?it/s]"
          ],
          "name": "stderr"
        },
        {
          "output_type": "stream",
          "text": [
            "\n",
            "Test set: Average loss: 0.5311, Accuracy: 8455/10000 (84.55%)\n",
            "\n",
            "EPOCH: 30\n"
          ],
          "name": "stdout"
        },
        {
          "output_type": "stream",
          "text": [
            "Loss=0.40887612104415894 Batch_id=390 Accuracy=91.93: 100%|██████████| 391/391 [00:22<00:00, 17.52it/s]\n",
            "  0%|          | 0/391 [00:00<?, ?it/s]"
          ],
          "name": "stderr"
        },
        {
          "output_type": "stream",
          "text": [
            "\n",
            "Test set: Average loss: 0.6009, Accuracy: 8278/10000 (82.78%)\n",
            "\n",
            "EPOCH: 31\n"
          ],
          "name": "stdout"
        },
        {
          "output_type": "stream",
          "text": [
            "Loss=0.40821999311447144 Batch_id=390 Accuracy=92.18: 100%|██████████| 391/391 [00:22<00:00, 18.72it/s]\n",
            "  0%|          | 0/391 [00:00<?, ?it/s]"
          ],
          "name": "stderr"
        },
        {
          "output_type": "stream",
          "text": [
            "\n",
            "Test set: Average loss: 0.5466, Accuracy: 8429/10000 (84.29%)\n",
            "\n",
            "EPOCH: 32\n"
          ],
          "name": "stdout"
        },
        {
          "output_type": "stream",
          "text": [
            "Loss=0.35454705357551575 Batch_id=390 Accuracy=92.56: 100%|██████████| 391/391 [00:22<00:00, 17.53it/s]\n",
            "  0%|          | 0/391 [00:00<?, ?it/s]"
          ],
          "name": "stderr"
        },
        {
          "output_type": "stream",
          "text": [
            "\n",
            "Test set: Average loss: 0.5362, Accuracy: 8454/10000 (84.54%)\n",
            "\n",
            "EPOCH: 33\n"
          ],
          "name": "stdout"
        },
        {
          "output_type": "stream",
          "text": [
            "Loss=0.6659569144248962 Batch_id=390 Accuracy=92.44: 100%|██████████| 391/391 [00:22<00:00, 17.47it/s]\n",
            "  0%|          | 0/391 [00:00<?, ?it/s]"
          ],
          "name": "stderr"
        },
        {
          "output_type": "stream",
          "text": [
            "\n",
            "Test set: Average loss: 0.5371, Accuracy: 8447/10000 (84.47%)\n",
            "\n",
            "EPOCH: 34\n"
          ],
          "name": "stdout"
        },
        {
          "output_type": "stream",
          "text": [
            "Loss=0.6022370457649231 Batch_id=390 Accuracy=93.04: 100%|██████████| 391/391 [00:22<00:00, 18.54it/s]\n",
            "  0%|          | 0/391 [00:00<?, ?it/s]"
          ],
          "name": "stderr"
        },
        {
          "output_type": "stream",
          "text": [
            "\n",
            "Test set: Average loss: 0.5303, Accuracy: 8520/10000 (85.20%)\n",
            "\n",
            "EPOCH: 35\n"
          ],
          "name": "stdout"
        },
        {
          "output_type": "stream",
          "text": [
            "Loss=0.36910778284072876 Batch_id=390 Accuracy=93.08: 100%|██████████| 391/391 [00:22<00:00, 17.51it/s]\n",
            "  0%|          | 0/391 [00:00<?, ?it/s]"
          ],
          "name": "stderr"
        },
        {
          "output_type": "stream",
          "text": [
            "\n",
            "Test set: Average loss: 0.5704, Accuracy: 8377/10000 (83.77%)\n",
            "\n",
            "EPOCH: 36\n"
          ],
          "name": "stdout"
        },
        {
          "output_type": "stream",
          "text": [
            "Loss=0.4616689682006836 Batch_id=390 Accuracy=92.94: 100%|██████████| 391/391 [00:22<00:00, 17.56it/s]\n",
            "  0%|          | 0/391 [00:00<?, ?it/s]"
          ],
          "name": "stderr"
        },
        {
          "output_type": "stream",
          "text": [
            "\n",
            "Test set: Average loss: 0.5315, Accuracy: 8526/10000 (85.26%)\n",
            "\n",
            "EPOCH: 37\n"
          ],
          "name": "stdout"
        },
        {
          "output_type": "stream",
          "text": [
            "Loss=0.4996787905693054 Batch_id=390 Accuracy=93.17: 100%|██████████| 391/391 [00:22<00:00, 18.42it/s]\n",
            "  0%|          | 0/391 [00:00<?, ?it/s]"
          ],
          "name": "stderr"
        },
        {
          "output_type": "stream",
          "text": [
            "\n",
            "Test set: Average loss: 0.5920, Accuracy: 8377/10000 (83.77%)\n",
            "\n",
            "EPOCH: 38\n"
          ],
          "name": "stdout"
        },
        {
          "output_type": "stream",
          "text": [
            "Loss=0.3654504418373108 Batch_id=390 Accuracy=93.32: 100%|██████████| 391/391 [00:22<00:00, 17.59it/s]\n",
            "  0%|          | 0/391 [00:00<?, ?it/s]"
          ],
          "name": "stderr"
        },
        {
          "output_type": "stream",
          "text": [
            "\n",
            "Test set: Average loss: 0.5695, Accuracy: 8434/10000 (84.34%)\n",
            "\n",
            "EPOCH: 39\n"
          ],
          "name": "stdout"
        },
        {
          "output_type": "stream",
          "text": [
            "Loss=0.5017029047012329 Batch_id=390 Accuracy=93.64: 100%|██████████| 391/391 [00:22<00:00, 17.58it/s]\n",
            "  0%|          | 0/391 [00:00<?, ?it/s]"
          ],
          "name": "stderr"
        },
        {
          "output_type": "stream",
          "text": [
            "\n",
            "Test set: Average loss: 0.5786, Accuracy: 8446/10000 (84.46%)\n",
            "\n",
            "EPOCH: 40\n"
          ],
          "name": "stdout"
        },
        {
          "output_type": "stream",
          "text": [
            "Loss=0.5617819428443909 Batch_id=390 Accuracy=93.54: 100%|██████████| 391/391 [00:22<00:00, 17.40it/s]\n",
            "  0%|          | 0/391 [00:00<?, ?it/s]"
          ],
          "name": "stderr"
        },
        {
          "output_type": "stream",
          "text": [
            "\n",
            "Test set: Average loss: 0.5484, Accuracy: 8471/10000 (84.71%)\n",
            "\n",
            "EPOCH: 41\n"
          ],
          "name": "stdout"
        },
        {
          "output_type": "stream",
          "text": [
            "Loss=0.3513035178184509 Batch_id=390 Accuracy=94.05: 100%|██████████| 391/391 [00:22<00:00, 18.25it/s]\n",
            "  0%|          | 0/391 [00:00<?, ?it/s]"
          ],
          "name": "stderr"
        },
        {
          "output_type": "stream",
          "text": [
            "\n",
            "Test set: Average loss: 0.5239, Accuracy: 8524/10000 (85.24%)\n",
            "\n",
            "EPOCH: 42\n"
          ],
          "name": "stdout"
        },
        {
          "output_type": "stream",
          "text": [
            "Loss=0.3100387454032898 Batch_id=390 Accuracy=94.03: 100%|██████████| 391/391 [00:22<00:00, 17.45it/s]\n",
            "  0%|          | 0/391 [00:00<?, ?it/s]"
          ],
          "name": "stderr"
        },
        {
          "output_type": "stream",
          "text": [
            "\n",
            "Test set: Average loss: 0.5518, Accuracy: 8525/10000 (85.25%)\n",
            "\n",
            "EPOCH: 43\n"
          ],
          "name": "stdout"
        },
        {
          "output_type": "stream",
          "text": [
            "Loss=0.41403207182884216 Batch_id=390 Accuracy=94.20: 100%|██████████| 391/391 [00:21<00:00, 17.97it/s]\n",
            "  0%|          | 0/391 [00:00<?, ?it/s]"
          ],
          "name": "stderr"
        },
        {
          "output_type": "stream",
          "text": [
            "\n",
            "Test set: Average loss: 0.5398, Accuracy: 8501/10000 (85.01%)\n",
            "\n",
            "EPOCH: 44\n"
          ],
          "name": "stdout"
        },
        {
          "output_type": "stream",
          "text": [
            "Loss=0.32336434721946716 Batch_id=390 Accuracy=94.09: 100%|██████████| 391/391 [00:22<00:00, 17.60it/s]\n",
            "  0%|          | 0/391 [00:00<?, ?it/s]"
          ],
          "name": "stderr"
        },
        {
          "output_type": "stream",
          "text": [
            "\n",
            "Test set: Average loss: 0.5678, Accuracy: 8469/10000 (84.69%)\n",
            "\n",
            "EPOCH: 45\n"
          ],
          "name": "stdout"
        },
        {
          "output_type": "stream",
          "text": [
            "Loss=0.3497774600982666 Batch_id=390 Accuracy=94.24: 100%|██████████| 391/391 [00:22<00:00, 17.68it/s]\n",
            "  0%|          | 0/391 [00:00<?, ?it/s]"
          ],
          "name": "stderr"
        },
        {
          "output_type": "stream",
          "text": [
            "\n",
            "Test set: Average loss: 0.5400, Accuracy: 8525/10000 (85.25%)\n",
            "\n",
            "EPOCH: 46\n"
          ],
          "name": "stdout"
        },
        {
          "output_type": "stream",
          "text": [
            "Loss=0.32332825660705566 Batch_id=390 Accuracy=94.41: 100%|██████████| 391/391 [00:22<00:00, 17.54it/s]\n",
            "  0%|          | 0/391 [00:00<?, ?it/s]"
          ],
          "name": "stderr"
        },
        {
          "output_type": "stream",
          "text": [
            "\n",
            "Test set: Average loss: 0.5536, Accuracy: 8530/10000 (85.30%)\n",
            "\n",
            "EPOCH: 47\n"
          ],
          "name": "stdout"
        },
        {
          "output_type": "stream",
          "text": [
            "Loss=0.3039979040622711 Batch_id=390 Accuracy=94.38: 100%|██████████| 391/391 [00:22<00:00, 17.37it/s]\n",
            "  0%|          | 0/391 [00:00<?, ?it/s]"
          ],
          "name": "stderr"
        },
        {
          "output_type": "stream",
          "text": [
            "\n",
            "Test set: Average loss: 0.5852, Accuracy: 8470/10000 (84.70%)\n",
            "\n",
            "EPOCH: 48\n"
          ],
          "name": "stdout"
        },
        {
          "output_type": "stream",
          "text": [
            "Loss=0.31135404109954834 Batch_id=390 Accuracy=94.43: 100%|██████████| 391/391 [00:22<00:00, 17.52it/s]\n",
            "  0%|          | 0/391 [00:00<?, ?it/s]"
          ],
          "name": "stderr"
        },
        {
          "output_type": "stream",
          "text": [
            "\n",
            "Test set: Average loss: 0.5962, Accuracy: 8443/10000 (84.43%)\n",
            "\n",
            "EPOCH: 49\n"
          ],
          "name": "stdout"
        },
        {
          "output_type": "stream",
          "text": [
            "Loss=0.4317297637462616 Batch_id=390 Accuracy=94.82: 100%|██████████| 391/391 [00:22<00:00, 17.34it/s]\n",
            "  0%|          | 0/391 [00:00<?, ?it/s]"
          ],
          "name": "stderr"
        },
        {
          "output_type": "stream",
          "text": [
            "\n",
            "Test set: Average loss: 0.5964, Accuracy: 8445/10000 (84.45%)\n",
            "\n",
            "EPOCH: 50\n"
          ],
          "name": "stdout"
        },
        {
          "output_type": "stream",
          "text": [
            "Loss=0.42614316940307617 Batch_id=390 Accuracy=94.82: 100%|██████████| 391/391 [00:22<00:00, 17.42it/s]\n"
          ],
          "name": "stderr"
        },
        {
          "output_type": "stream",
          "text": [
            "\n",
            "Test set: Average loss: 0.6062, Accuracy: 8473/10000 (84.73%)\n",
            "\n",
            "\n",
            " Saving trained model...\n",
            "\n",
            " Visualizing:\n"
          ],
          "name": "stdout"
        },
        {
          "output_type": "display_data",
          "data": {
            "image/png": "[encoded data removed]",
            "text/plain": [
              "<Figure size 1080x720 with 4 Axes>"
            ]
          },
          "metadata": {
            "tags": []
          }
        }
      ]
    }
  ]
}
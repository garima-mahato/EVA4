{
  "nbformat": 4,
  "nbformat_minor": 0,
  "metadata": {
    "colab": {
      "name": "EVA4_Session8.ipynb",
      "provenance": [],
      "collapsed_sections": [],
      "authorship_tag": "ABX9TyMWEDkX3kBD5FY7ydjuBeDl"
    },
    "kernelspec": {
      "name": "python3",
      "display_name": "Python 3"
    },
    "accelerator": "GPU"
  },
  "cells": [
    {
      "cell_type": "markdown",
      "metadata": {
        "id": "34ETYsT4jdT-",
        "colab_type": "text"
      },
      "source": [
        "# ResNet18 on CIFAR10\n",
        "---\n",
        "\n",
        "1) Extracted Resnet18 model and added it to [my API](https://github.com/genigarus/EVA4/tree/master/API/models)\n",
        "\n",
        "2) Used my data loader, model loading, train, and test code to train ResNet18 on Cifar10\n",
        "\n",
        "3) Best Test Accuracy = 90.77%, Final Test accuracy = 89.77%, number of epochs = 50, Total Params = 11,173,962. \n",
        "\n",
        "4) Used image augmentation\n",
        "\n",
        "[Link to Google Colab Code File](https://colab.research.google.com/drive/1hcK2vTKwCoXGjdiG9DS3_sHaSH8DC-Da)\n",
        "\n",
        "[Link to python helper files](https://github.com/genigarus/EVA4/tree/master/API)"
      ]
    },
    {
      "cell_type": "markdown",
      "metadata": {
        "id": "vhcDOTXKRLjK",
        "colab_type": "text"
      },
      "source": [
        "## Google Drive Connection"
      ]
    },
    {
      "cell_type": "code",
      "metadata": {
        "id": "RqxgWbRyRP6m",
        "colab_type": "code",
        "outputId": "d3211c25-6958-466a-d80b-1e176cb82083",
        "colab": {
          "base_uri": "https://localhost:8080/",
          "height": 224
        }
      },
      "source": [
        "## Connecting google drive to colab\n",
        "\n",
        "!apt-get install -y -qq software-properties-common python-software-properties module-init-tools\n",
        "!add-apt-repository -y ppa:alessandro-strada/ppa 2>&1 > /dev/null\n",
        "!apt-get update -qq 2>&1 > /dev/null\n",
        "!apt-get -y install -qq google-drive-ocamlfuse fuse\n",
        "from google.colab import auth\n",
        "auth.authenticate_user()\n",
        "from oauth2client.client import GoogleCredentials\n",
        "creds = GoogleCredentials.get_application_default()\n",
        "import getpass\n",
        "!google-drive-ocamlfuse -headless -id={creds.client_id} -secret={creds.client_secret} < /dev/null 2>&1 | grep URL\n",
        "vcode = getpass.getpass()\n",
        "!echo {vcode} | google-drive-ocamlfuse -headless -id={creds.client_id} -secret={creds.client_secret}"
      ],
      "execution_count": 0,
      "outputs": [
        {
          "output_type": "stream",
          "text": [
            "E: Package 'python-software-properties' has no installation candidate\n",
            "Selecting previously unselected package google-drive-ocamlfuse.\n",
            "(Reading database ... 145118 files and directories currently installed.)\n",
            "Preparing to unpack .../google-drive-ocamlfuse_0.7.18-0ubuntu1~ubuntu18.04.1_amd64.deb ...\n",
            "Unpacking google-drive-ocamlfuse (0.7.18-0ubuntu1~ubuntu18.04.1) ...\n",
            "Setting up google-drive-ocamlfuse (0.7.18-0ubuntu1~ubuntu18.04.1) ...\n",
            "Processing triggers for man-db (2.8.3-2ubuntu0.1) ...\n",
            "Please, open the following URL in a web browser: https://accounts.google.com/o/oauth2/auth?client_id=32555940559.apps.googleusercontent.com&redirect_uri=urn%3Aietf%3Awg%3Aoauth%3A2.0%3Aoob&scope=https%3A%2F%2Fwww.googleapis.com%2Fauth%2Fdrive&response_type=code&access_type=offline&approval_prompt=force\n",
            "··········\n",
            "Please, open the following URL in a web browser: https://accounts.google.com/o/oauth2/auth?client_id=32555940559.apps.googleusercontent.com&redirect_uri=urn%3Aietf%3Awg%3Aoauth%3A2.0%3Aoob&scope=https%3A%2F%2Fwww.googleapis.com%2Fauth%2Fdrive&response_type=code&access_type=offline&approval_prompt=force\n",
            "Please enter the verification code: Access token retrieved correctly.\n"
          ],
          "name": "stdout"
        }
      ]
    },
    {
      "cell_type": "code",
      "metadata": {
        "id": "nHhs9KEfRZjk",
        "colab_type": "code",
        "colab": {}
      },
      "source": [
        "!mkdir -p drive\n",
        "!google-drive-ocamlfuse drive"
      ],
      "execution_count": 0,
      "outputs": []
    },
    {
      "cell_type": "markdown",
      "metadata": {
        "id": "z_teaMo7mogV",
        "colab_type": "text"
      },
      "source": [
        "### Change working directory to where python files are located"
      ]
    },
    {
      "cell_type": "code",
      "metadata": {
        "id": "rwYfid1emjpB",
        "colab_type": "code",
        "outputId": "4f0758f2-8526-451b-a57b-82b6f15c557f",
        "colab": {
          "base_uri": "https://localhost:8080/",
          "height": 34
        }
      },
      "source": [
        "import os\n",
        "default_path = 'drive/EVA4/API'\n",
        "os.chdir(default_path)\n",
        "print(\"Current working directory: \"+os.getcwd())"
      ],
      "execution_count": 0,
      "outputs": [
        {
          "output_type": "stream",
          "text": [
            "Current working directory: /content/drive/EVA4/API\n"
          ],
          "name": "stdout"
        }
      ]
    },
    {
      "cell_type": "markdown",
      "metadata": {
        "id": "UbKUXF24RRMN",
        "colab_type": "text"
      },
      "source": [
        "# Imports"
      ]
    },
    {
      "cell_type": "code",
      "metadata": {
        "id": "9HZW8SRCisol",
        "colab_type": "code",
        "outputId": "812e3b58-4327-4c34-8e45-25066243d5b8",
        "colab": {
          "base_uri": "https://localhost:8080/",
          "height": 34
        }
      },
      "source": [
        "from __future__ import print_function\n",
        "import math\n",
        "import numpy\n",
        "import torch\n",
        "import torch.nn as nn\n",
        "import torch.nn.functional as F\n",
        "import torch.optim as optim\n",
        "from torchvision import datasets, transforms\n",
        "from torch.optim.lr_scheduler import StepLR\n",
        "\n",
        "%matplotlib inline\n",
        "import matplotlib.pyplot as plt\n",
        "\n",
        "!pip install torchsummary\n",
        "from torchsummary import summary"
      ],
      "execution_count": 0,
      "outputs": [
        {
          "output_type": "stream",
          "text": [
            "Requirement already satisfied: torchsummary in /usr/local/lib/python3.6/dist-packages (1.5.1)\n"
          ],
          "name": "stdout"
        }
      ]
    },
    {
      "cell_type": "markdown",
      "metadata": {
        "id": "S0Hoq45PjiFD",
        "colab_type": "text"
      },
      "source": [
        "# Model"
      ]
    },
    {
      "cell_type": "code",
      "metadata": {
        "id": "lzaE8O4eGyXH",
        "colab_type": "code",
        "colab": {}
      },
      "source": [
        "from models import *"
      ],
      "execution_count": 0,
      "outputs": []
    },
    {
      "cell_type": "markdown",
      "metadata": {
        "id": "Ix0QUoy6jluT",
        "colab_type": "text"
      },
      "source": [
        "# Training Code\n"
      ]
    },
    {
      "cell_type": "code",
      "metadata": {
        "id": "MnA7nomfkFTs",
        "colab_type": "code",
        "colab": {}
      },
      "source": [
        "from training_testing import train"
      ],
      "execution_count": 0,
      "outputs": []
    },
    {
      "cell_type": "markdown",
      "metadata": {
        "id": "RT-N4rz8kbvM",
        "colab_type": "text"
      },
      "source": [
        "# Testing Code"
      ]
    },
    {
      "cell_type": "code",
      "metadata": {
        "id": "cMhZ60V9kPGf",
        "colab_type": "code",
        "colab": {}
      },
      "source": [
        "from training_testing import test"
      ],
      "execution_count": 0,
      "outputs": []
    },
    {
      "cell_type": "markdown",
      "metadata": {
        "id": "FIfIjZZekaU8",
        "colab_type": "text"
      },
      "source": [
        "# Regularization"
      ]
    },
    {
      "cell_type": "code",
      "metadata": {
        "id": "d-V3r0qekRm-",
        "colab_type": "code",
        "colab": {}
      },
      "source": [
        "from regularization import *"
      ],
      "execution_count": 0,
      "outputs": []
    },
    {
      "cell_type": "markdown",
      "metadata": {
        "id": "MTkj37bdj5cf",
        "colab_type": "text"
      },
      "source": [
        "# Dataloader/Transformations/Image-augmentations\n"
      ]
    },
    {
      "cell_type": "code",
      "metadata": {
        "id": "Y2ZSt1RlkI-H",
        "colab_type": "code",
        "colab": {}
      },
      "source": [
        "from data_loader import generate_train_test_loader\n"
      ],
      "execution_count": 0,
      "outputs": []
    },
    {
      "cell_type": "markdown",
      "metadata": {
        "id": "JAM9bGxIj_OW",
        "colab_type": "text"
      },
      "source": [
        "# Misc Items like finding misclassified images"
      ]
    },
    {
      "cell_type": "code",
      "metadata": {
        "id": "DTj6GpF8xRhF",
        "colab_type": "code",
        "colab": {}
      },
      "source": [
        "from utility import *"
      ],
      "execution_count": 0,
      "outputs": []
    },
    {
      "cell_type": "markdown",
      "metadata": {
        "id": "O4DaoOEGE8Dc",
        "colab_type": "text"
      },
      "source": [
        "# Execution(Run models for 50 epochs)"
      ]
    },
    {
      "cell_type": "code",
      "metadata": {
        "id": "flFgjGvhSM8g",
        "colab_type": "code",
        "colab": {}
      },
      "source": [
        "# google drive path for saving models, graphs and images\n",
        "PATH = \"../Session8\""
      ],
      "execution_count": 0,
      "outputs": []
    },
    {
      "cell_type": "markdown",
      "metadata": {
        "id": "OefSYHBpky0D",
        "colab_type": "text"
      },
      "source": [
        "## Generating Data Loaders"
      ]
    },
    {
      "cell_type": "code",
      "metadata": {
        "id": "V_6Aso8ok3iz",
        "colab_type": "code",
        "outputId": "0cbe3770-da64-4c00-c548-ce961085450f",
        "colab": {
          "base_uri": "https://localhost:8080/",
          "height": 51
        }
      },
      "source": [
        "SEED = 1\n",
        "means, stdevs = (0.4914, 0.4822, 0.4465), (0.2023, 0.1994, 0.2010)\n",
        "DATA_PATH = PATH+'/data'\n",
        "\n",
        "train_loader, test_loader, test_data = generate_train_test_loader(DATA_PATH, SEED, means, stdevs)"
      ],
      "execution_count": 0,
      "outputs": [
        {
          "output_type": "stream",
          "text": [
            "Files already downloaded and verified\n",
            "Files already downloaded and verified\n"
          ],
          "name": "stdout"
        }
      ]
    },
    {
      "cell_type": "code",
      "metadata": {
        "id": "JHREH66xYF0c",
        "colab_type": "code",
        "outputId": "4c797575-9e94-45d9-f686-d278cd51d07d",
        "colab": {
          "base_uri": "https://localhost:8080/",
          "height": 1000
        }
      },
      "source": [
        "print(\"*\"*50)\n",
        "print(\"*\"*10,\"With Resnet18 model\",\"*\"*10)\n",
        "print(\"*\"*50)\n",
        "print(\"\\n Initializing...\")\n",
        "aug_l1_l2_reg_train_losses = []\n",
        "aug_l1_l2_reg_test_losses = []\n",
        "aug_l1_l2_reg_train_acc = []\n",
        "aug_l1_l2_reg_test_acc = []\n",
        "# dropout_value = 0.2\n",
        "LAMBDA1=1e-5\n",
        "LR=0.01\n",
        "MOMENTUM=0.9\n",
        "WEIGHT_DECAY=5e-4\n",
        "inp_size = (3, 32, 32)\n",
        "device = set_device()\n",
        "\n",
        "print(\"Creating model...\")\n",
        "aug_l1_l2_model =  ResNet18().to(device)\n",
        "\n",
        "print(\"\\n Model Summary:\")\n",
        "summary(aug_l1_l2_model, input_size=inp_size)\n",
        "optimizer = optim.SGD(aug_l1_l2_model.parameters(), lr=LR, momentum=MOMENTUM, weight_decay=WEIGHT_DECAY)\n",
        "criterion = nn.CrossEntropyLoss()\n",
        "\n",
        "print(\"\\n Training the model...\")\n",
        "EPOCHS = 50\n",
        "for epoch in range(EPOCHS):\n",
        "    print(\"EPOCH:\", epoch+1)\n",
        "    train(aug_l1_l2_model, device, train_loader, optimizer, criterion, epoch, aug_l1_l2_reg_train_losses, aug_l1_l2_reg_train_acc, l1=True, lambda1=LAMBDA1)\n",
        "    test(aug_l1_l2_model, device, criterion, test_loader, aug_l1_l2_reg_test_losses, aug_l1_l2_reg_test_acc)\n",
        "\n",
        "print(\"\\n Saving trained model...\")\n",
        "torch.save(aug_l1_l2_model.state_dict(), PATH+\"/model/cifar10_aug_model_l1_l2.pth\")\n",
        "\n",
        "print(\"\\n Visualizing:\")\n",
        "visualize_graph(aug_l1_l2_reg_train_losses, aug_l1_l2_reg_train_acc, aug_l1_l2_reg_test_losses, aug_l1_l2_reg_test_acc)"
      ],
      "execution_count": 0,
      "outputs": [
        {
          "output_type": "stream",
          "text": [
            "\r  0%|          | 0/391 [00:00<?, ?it/s]"
          ],
          "name": "stderr"
        },
        {
          "output_type": "stream",
          "text": [
            "**************************************************\n",
            "********** With Resnet18 model **********\n",
            "**************************************************\n",
            "\n",
            " Initializing...\n",
            "Creating model...\n",
            "\n",
            " Model Summary:\n",
            "----------------------------------------------------------------\n",
            "        Layer (type)               Output Shape         Param #\n",
            "================================================================\n",
            "            Conv2d-1           [-1, 64, 32, 32]           1,728\n",
            "       BatchNorm2d-2           [-1, 64, 32, 32]             128\n",
            "            Conv2d-3           [-1, 64, 32, 32]          36,864\n",
            "       BatchNorm2d-4           [-1, 64, 32, 32]             128\n",
            "            Conv2d-5           [-1, 64, 32, 32]          36,864\n",
            "       BatchNorm2d-6           [-1, 64, 32, 32]             128\n",
            "        BasicBlock-7           [-1, 64, 32, 32]               0\n",
            "            Conv2d-8           [-1, 64, 32, 32]          36,864\n",
            "       BatchNorm2d-9           [-1, 64, 32, 32]             128\n",
            "           Conv2d-10           [-1, 64, 32, 32]          36,864\n",
            "      BatchNorm2d-11           [-1, 64, 32, 32]             128\n",
            "       BasicBlock-12           [-1, 64, 32, 32]               0\n",
            "           Conv2d-13          [-1, 128, 16, 16]          73,728\n",
            "      BatchNorm2d-14          [-1, 128, 16, 16]             256\n",
            "           Conv2d-15          [-1, 128, 16, 16]         147,456\n",
            "      BatchNorm2d-16          [-1, 128, 16, 16]             256\n",
            "           Conv2d-17          [-1, 128, 16, 16]           8,192\n",
            "      BatchNorm2d-18          [-1, 128, 16, 16]             256\n",
            "       BasicBlock-19          [-1, 128, 16, 16]               0\n",
            "           Conv2d-20          [-1, 128, 16, 16]         147,456\n",
            "      BatchNorm2d-21          [-1, 128, 16, 16]             256\n",
            "           Conv2d-22          [-1, 128, 16, 16]         147,456\n",
            "      BatchNorm2d-23          [-1, 128, 16, 16]             256\n",
            "       BasicBlock-24          [-1, 128, 16, 16]               0\n",
            "           Conv2d-25            [-1, 256, 8, 8]         294,912\n",
            "      BatchNorm2d-26            [-1, 256, 8, 8]             512\n",
            "           Conv2d-27            [-1, 256, 8, 8]         589,824\n",
            "      BatchNorm2d-28            [-1, 256, 8, 8]             512\n",
            "           Conv2d-29            [-1, 256, 8, 8]          32,768\n",
            "      BatchNorm2d-30            [-1, 256, 8, 8]             512\n",
            "       BasicBlock-31            [-1, 256, 8, 8]               0\n",
            "           Conv2d-32            [-1, 256, 8, 8]         589,824\n",
            "      BatchNorm2d-33            [-1, 256, 8, 8]             512\n",
            "           Conv2d-34            [-1, 256, 8, 8]         589,824\n",
            "      BatchNorm2d-35            [-1, 256, 8, 8]             512\n",
            "       BasicBlock-36            [-1, 256, 8, 8]               0\n",
            "           Conv2d-37            [-1, 512, 4, 4]       1,179,648\n",
            "      BatchNorm2d-38            [-1, 512, 4, 4]           1,024\n",
            "           Conv2d-39            [-1, 512, 4, 4]       2,359,296\n",
            "      BatchNorm2d-40            [-1, 512, 4, 4]           1,024\n",
            "           Conv2d-41            [-1, 512, 4, 4]         131,072\n",
            "      BatchNorm2d-42            [-1, 512, 4, 4]           1,024\n",
            "       BasicBlock-43            [-1, 512, 4, 4]               0\n",
            "           Conv2d-44            [-1, 512, 4, 4]       2,359,296\n",
            "      BatchNorm2d-45            [-1, 512, 4, 4]           1,024\n",
            "           Conv2d-46            [-1, 512, 4, 4]       2,359,296\n",
            "      BatchNorm2d-47            [-1, 512, 4, 4]           1,024\n",
            "       BasicBlock-48            [-1, 512, 4, 4]               0\n",
            "           Linear-49                   [-1, 10]           5,130\n",
            "================================================================\n",
            "Total params: 11,173,962\n",
            "Trainable params: 11,173,962\n",
            "Non-trainable params: 0\n",
            "----------------------------------------------------------------\n",
            "Input size (MB): 0.01\n",
            "Forward/backward pass size (MB): 11.25\n",
            "Params size (MB): 42.63\n",
            "Estimated Total Size (MB): 53.89\n",
            "----------------------------------------------------------------\n",
            "\n",
            " Training the model...\n",
            "EPOCH: 1\n"
          ],
          "name": "stdout"
        },
        {
          "output_type": "stream",
          "text": [
            "Loss=2.0311341285705566 Batch_id=390 Accuracy=49.03: 100%|██████████| 391/391 [01:06<00:00,  6.90it/s]\n",
            "  0%|          | 0/391 [00:00<?, ?it/s]"
          ],
          "name": "stderr"
        },
        {
          "output_type": "stream",
          "text": [
            "\n",
            "Test set: Average loss: 0.0107, Accuracy: 5503/10000 (55.03%)\n",
            "\n",
            "EPOCH: 2\n"
          ],
          "name": "stdout"
        },
        {
          "output_type": "stream",
          "text": [
            "Loss=1.6827178001403809 Batch_id=390 Accuracy=67.87: 100%|██████████| 391/391 [01:05<00:00,  6.63it/s]\n",
            "  0%|          | 0/391 [00:00<?, ?it/s]"
          ],
          "name": "stderr"
        },
        {
          "output_type": "stream",
          "text": [
            "\n",
            "Test set: Average loss: 0.0085, Accuracy: 6498/10000 (64.98%)\n",
            "\n",
            "EPOCH: 3\n"
          ],
          "name": "stdout"
        },
        {
          "output_type": "stream",
          "text": [
            "Loss=1.4944424629211426 Batch_id=390 Accuracy=75.69: 100%|██████████| 391/391 [01:05<00:00,  6.73it/s]\n",
            "  0%|          | 0/391 [00:00<?, ?it/s]"
          ],
          "name": "stderr"
        },
        {
          "output_type": "stream",
          "text": [
            "\n",
            "Test set: Average loss: 0.0053, Accuracy: 7705/10000 (77.05%)\n",
            "\n",
            "EPOCH: 4\n"
          ],
          "name": "stdout"
        },
        {
          "output_type": "stream",
          "text": [
            "Loss=1.4165538549423218 Batch_id=390 Accuracy=79.34: 100%|██████████| 391/391 [01:05<00:00,  6.67it/s]\n",
            "  0%|          | 0/391 [00:00<?, ?it/s]"
          ],
          "name": "stderr"
        },
        {
          "output_type": "stream",
          "text": [
            "\n",
            "Test set: Average loss: 0.0070, Accuracy: 7475/10000 (74.75%)\n",
            "\n",
            "EPOCH: 5\n"
          ],
          "name": "stdout"
        },
        {
          "output_type": "stream",
          "text": [
            "Loss=1.4972513914108276 Batch_id=390 Accuracy=81.69: 100%|██████████| 391/391 [01:05<00:00,  6.74it/s]\n",
            "  0%|          | 0/391 [00:00<?, ?it/s]"
          ],
          "name": "stderr"
        },
        {
          "output_type": "stream",
          "text": [
            "\n",
            "Test set: Average loss: 0.0056, Accuracy: 7822/10000 (78.22%)\n",
            "\n",
            "EPOCH: 6\n"
          ],
          "name": "stdout"
        },
        {
          "output_type": "stream",
          "text": [
            "Loss=1.2146306037902832 Batch_id=390 Accuracy=83.43: 100%|██████████| 391/391 [01:05<00:00,  6.67it/s]\n",
            "  0%|          | 0/391 [00:00<?, ?it/s]"
          ],
          "name": "stderr"
        },
        {
          "output_type": "stream",
          "text": [
            "\n",
            "Test set: Average loss: 0.0041, Accuracy: 8176/10000 (81.76%)\n",
            "\n",
            "EPOCH: 7\n"
          ],
          "name": "stdout"
        },
        {
          "output_type": "stream",
          "text": [
            "Loss=1.0538486242294312 Batch_id=390 Accuracy=84.89: 100%|██████████| 391/391 [01:05<00:00,  6.65it/s]\n",
            "  0%|          | 0/391 [00:00<?, ?it/s]"
          ],
          "name": "stderr"
        },
        {
          "output_type": "stream",
          "text": [
            "\n",
            "Test set: Average loss: 0.0042, Accuracy: 8267/10000 (82.67%)\n",
            "\n",
            "EPOCH: 8\n"
          ],
          "name": "stdout"
        },
        {
          "output_type": "stream",
          "text": [
            "Loss=1.0309051275253296 Batch_id=390 Accuracy=86.16: 100%|██████████| 391/391 [01:05<00:00,  6.69it/s]\n",
            "  0%|          | 0/391 [00:00<?, ?it/s]"
          ],
          "name": "stderr"
        },
        {
          "output_type": "stream",
          "text": [
            "\n",
            "Test set: Average loss: 0.0045, Accuracy: 8115/10000 (81.15%)\n",
            "\n",
            "EPOCH: 9\n"
          ],
          "name": "stdout"
        },
        {
          "output_type": "stream",
          "text": [
            "Loss=0.9846339821815491 Batch_id=390 Accuracy=87.13: 100%|██████████| 391/391 [01:05<00:00,  6.69it/s]\n",
            "  0%|          | 0/391 [00:00<?, ?it/s]"
          ],
          "name": "stderr"
        },
        {
          "output_type": "stream",
          "text": [
            "\n",
            "Test set: Average loss: 0.0041, Accuracy: 8329/10000 (83.29%)\n",
            "\n",
            "EPOCH: 10\n"
          ],
          "name": "stdout"
        },
        {
          "output_type": "stream",
          "text": [
            "Loss=0.9517426490783691 Batch_id=390 Accuracy=87.79: 100%|██████████| 391/391 [01:05<00:00,  6.67it/s]\n",
            "  0%|          | 0/391 [00:00<?, ?it/s]"
          ],
          "name": "stderr"
        },
        {
          "output_type": "stream",
          "text": [
            "\n",
            "Test set: Average loss: 0.0042, Accuracy: 8325/10000 (83.25%)\n",
            "\n",
            "EPOCH: 11\n"
          ],
          "name": "stdout"
        },
        {
          "output_type": "stream",
          "text": [
            "Loss=1.0375127792358398 Batch_id=390 Accuracy=88.53: 100%|██████████| 391/391 [01:05<00:00,  6.65it/s]\n",
            "  0%|          | 0/391 [00:00<?, ?it/s]"
          ],
          "name": "stderr"
        },
        {
          "output_type": "stream",
          "text": [
            "\n",
            "Test set: Average loss: 0.0034, Accuracy: 8587/10000 (85.87%)\n",
            "\n",
            "EPOCH: 12\n"
          ],
          "name": "stdout"
        },
        {
          "output_type": "stream",
          "text": [
            "Loss=0.9257340431213379 Batch_id=390 Accuracy=89.32: 100%|██████████| 391/391 [01:05<00:00,  6.68it/s]\n",
            "  0%|          | 0/391 [00:00<?, ?it/s]"
          ],
          "name": "stderr"
        },
        {
          "output_type": "stream",
          "text": [
            "\n",
            "Test set: Average loss: 0.0033, Accuracy: 8620/10000 (86.20%)\n",
            "\n",
            "EPOCH: 13\n"
          ],
          "name": "stdout"
        },
        {
          "output_type": "stream",
          "text": [
            "Loss=0.9898914694786072 Batch_id=390 Accuracy=89.44: 100%|██████████| 391/391 [01:05<00:00,  6.71it/s]\n",
            "  0%|          | 0/391 [00:00<?, ?it/s]"
          ],
          "name": "stderr"
        },
        {
          "output_type": "stream",
          "text": [
            "\n",
            "Test set: Average loss: 0.0036, Accuracy: 8551/10000 (85.51%)\n",
            "\n",
            "EPOCH: 14\n"
          ],
          "name": "stdout"
        },
        {
          "output_type": "stream",
          "text": [
            "Loss=0.9156540036201477 Batch_id=390 Accuracy=90.08: 100%|██████████| 391/391 [01:05<00:00,  6.66it/s]\n",
            "  0%|          | 0/391 [00:00<?, ?it/s]"
          ],
          "name": "stderr"
        },
        {
          "output_type": "stream",
          "text": [
            "\n",
            "Test set: Average loss: 0.0036, Accuracy: 8571/10000 (85.71%)\n",
            "\n",
            "EPOCH: 15\n"
          ],
          "name": "stdout"
        },
        {
          "output_type": "stream",
          "text": [
            "Loss=0.7538177967071533 Batch_id=390 Accuracy=90.32: 100%|██████████| 391/391 [01:05<00:00,  6.64it/s]\n",
            "  0%|          | 0/391 [00:00<?, ?it/s]"
          ],
          "name": "stderr"
        },
        {
          "output_type": "stream",
          "text": [
            "\n",
            "Test set: Average loss: 0.0032, Accuracy: 8651/10000 (86.51%)\n",
            "\n",
            "EPOCH: 16\n"
          ],
          "name": "stdout"
        },
        {
          "output_type": "stream",
          "text": [
            "Loss=0.6481790542602539 Batch_id=390 Accuracy=90.77: 100%|██████████| 391/391 [01:05<00:00,  6.74it/s]\n",
            "  0%|          | 0/391 [00:00<?, ?it/s]"
          ],
          "name": "stderr"
        },
        {
          "output_type": "stream",
          "text": [
            "\n",
            "Test set: Average loss: 0.0038, Accuracy: 8508/10000 (85.08%)\n",
            "\n",
            "EPOCH: 17\n"
          ],
          "name": "stdout"
        },
        {
          "output_type": "stream",
          "text": [
            "Loss=0.6103735566139221 Batch_id=390 Accuracy=91.09: 100%|██████████| 391/391 [01:05<00:00,  6.68it/s]\n",
            "  0%|          | 0/391 [00:00<?, ?it/s]"
          ],
          "name": "stderr"
        },
        {
          "output_type": "stream",
          "text": [
            "\n",
            "Test set: Average loss: 0.0035, Accuracy: 8563/10000 (85.63%)\n",
            "\n",
            "EPOCH: 18\n"
          ],
          "name": "stdout"
        },
        {
          "output_type": "stream",
          "text": [
            "Loss=0.7982615232467651 Batch_id=390 Accuracy=91.52: 100%|██████████| 391/391 [01:05<00:00,  6.66it/s]\n",
            "  0%|          | 0/391 [00:00<?, ?it/s]"
          ],
          "name": "stderr"
        },
        {
          "output_type": "stream",
          "text": [
            "\n",
            "Test set: Average loss: 0.0034, Accuracy: 8653/10000 (86.53%)\n",
            "\n",
            "EPOCH: 19\n"
          ],
          "name": "stdout"
        },
        {
          "output_type": "stream",
          "text": [
            "Loss=0.5714067220687866 Batch_id=390 Accuracy=91.71: 100%|██████████| 391/391 [01:05<00:00,  6.71it/s]\n",
            "  0%|          | 0/391 [00:00<?, ?it/s]"
          ],
          "name": "stderr"
        },
        {
          "output_type": "stream",
          "text": [
            "\n",
            "Test set: Average loss: 0.0037, Accuracy: 8571/10000 (85.71%)\n",
            "\n",
            "EPOCH: 20\n"
          ],
          "name": "stdout"
        },
        {
          "output_type": "stream",
          "text": [
            "Loss=0.666029691696167 Batch_id=390 Accuracy=91.76: 100%|██████████| 391/391 [01:05<00:00,  6.71it/s]\n",
            "  0%|          | 0/391 [00:00<?, ?it/s]"
          ],
          "name": "stderr"
        },
        {
          "output_type": "stream",
          "text": [
            "\n",
            "Test set: Average loss: 0.0046, Accuracy: 8361/10000 (83.61%)\n",
            "\n",
            "EPOCH: 21\n"
          ],
          "name": "stdout"
        },
        {
          "output_type": "stream",
          "text": [
            "Loss=0.7073297500610352 Batch_id=390 Accuracy=92.15: 100%|██████████| 391/391 [01:05<00:00,  6.71it/s]\n",
            "  0%|          | 0/391 [00:00<?, ?it/s]"
          ],
          "name": "stderr"
        },
        {
          "output_type": "stream",
          "text": [
            "\n",
            "Test set: Average loss: 0.0031, Accuracy: 8786/10000 (87.86%)\n",
            "\n",
            "EPOCH: 22\n"
          ],
          "name": "stdout"
        },
        {
          "output_type": "stream",
          "text": [
            "Loss=0.6236323118209839 Batch_id=390 Accuracy=92.29: 100%|██████████| 391/391 [01:05<00:00,  6.66it/s]\n",
            "  0%|          | 0/391 [00:00<?, ?it/s]"
          ],
          "name": "stderr"
        },
        {
          "output_type": "stream",
          "text": [
            "\n",
            "Test set: Average loss: 0.0033, Accuracy: 8656/10000 (86.56%)\n",
            "\n",
            "EPOCH: 23\n"
          ],
          "name": "stdout"
        },
        {
          "output_type": "stream",
          "text": [
            "Loss=0.5996423363685608 Batch_id=390 Accuracy=92.49: 100%|██████████| 391/391 [01:05<00:00,  6.70it/s]\n",
            "  0%|          | 0/391 [00:00<?, ?it/s]"
          ],
          "name": "stderr"
        },
        {
          "output_type": "stream",
          "text": [
            "\n",
            "Test set: Average loss: 0.0031, Accuracy: 8789/10000 (87.89%)\n",
            "\n",
            "EPOCH: 24\n"
          ],
          "name": "stdout"
        },
        {
          "output_type": "stream",
          "text": [
            "Loss=0.4903583824634552 Batch_id=390 Accuracy=92.73: 100%|██████████| 391/391 [01:05<00:00,  6.73it/s]\n",
            "  0%|          | 0/391 [00:00<?, ?it/s]"
          ],
          "name": "stderr"
        },
        {
          "output_type": "stream",
          "text": [
            "\n",
            "Test set: Average loss: 0.0029, Accuracy: 8861/10000 (88.61%)\n",
            "\n",
            "EPOCH: 25\n"
          ],
          "name": "stdout"
        },
        {
          "output_type": "stream",
          "text": [
            "Loss=0.5218098163604736 Batch_id=390 Accuracy=92.72: 100%|██████████| 391/391 [01:05<00:00,  6.71it/s]\n",
            "  0%|          | 0/391 [00:00<?, ?it/s]"
          ],
          "name": "stderr"
        },
        {
          "output_type": "stream",
          "text": [
            "\n",
            "Test set: Average loss: 0.0031, Accuracy: 8767/10000 (87.67%)\n",
            "\n",
            "EPOCH: 26\n"
          ],
          "name": "stdout"
        },
        {
          "output_type": "stream",
          "text": [
            "Loss=0.6535432934761047 Batch_id=390 Accuracy=93.07: 100%|██████████| 391/391 [01:05<00:00,  6.75it/s]\n",
            "  0%|          | 0/391 [00:00<?, ?it/s]"
          ],
          "name": "stderr"
        },
        {
          "output_type": "stream",
          "text": [
            "\n",
            "Test set: Average loss: 0.0036, Accuracy: 8633/10000 (86.33%)\n",
            "\n",
            "EPOCH: 27\n"
          ],
          "name": "stdout"
        },
        {
          "output_type": "stream",
          "text": [
            "Loss=0.6297220587730408 Batch_id=390 Accuracy=92.93: 100%|██████████| 391/391 [01:05<00:00,  6.85it/s]\n",
            "  0%|          | 0/391 [00:00<?, ?it/s]"
          ],
          "name": "stderr"
        },
        {
          "output_type": "stream",
          "text": [
            "\n",
            "Test set: Average loss: 0.0033, Accuracy: 8791/10000 (87.91%)\n",
            "\n",
            "EPOCH: 28\n"
          ],
          "name": "stdout"
        },
        {
          "output_type": "stream",
          "text": [
            "Loss=0.6100600361824036 Batch_id=390 Accuracy=93.19: 100%|██████████| 391/391 [01:05<00:00,  6.70it/s]\n",
            "  0%|          | 0/391 [00:00<?, ?it/s]"
          ],
          "name": "stderr"
        },
        {
          "output_type": "stream",
          "text": [
            "\n",
            "Test set: Average loss: 0.0032, Accuracy: 8746/10000 (87.46%)\n",
            "\n",
            "EPOCH: 29\n"
          ],
          "name": "stdout"
        },
        {
          "output_type": "stream",
          "text": [
            "Loss=0.5507486462593079 Batch_id=390 Accuracy=93.34: 100%|██████████| 391/391 [01:05<00:00,  6.73it/s]\n",
            "  0%|          | 0/391 [00:00<?, ?it/s]"
          ],
          "name": "stderr"
        },
        {
          "output_type": "stream",
          "text": [
            "\n",
            "Test set: Average loss: 0.0042, Accuracy: 8516/10000 (85.16%)\n",
            "\n",
            "EPOCH: 30\n"
          ],
          "name": "stdout"
        },
        {
          "output_type": "stream",
          "text": [
            "Loss=0.4978582262992859 Batch_id=390 Accuracy=93.47: 100%|██████████| 391/391 [01:05<00:00,  6.59it/s]\n",
            "  0%|          | 0/391 [00:00<?, ?it/s]"
          ],
          "name": "stderr"
        },
        {
          "output_type": "stream",
          "text": [
            "\n",
            "Test set: Average loss: 0.0031, Accuracy: 8844/10000 (88.44%)\n",
            "\n",
            "EPOCH: 31\n"
          ],
          "name": "stdout"
        },
        {
          "output_type": "stream",
          "text": [
            "Loss=0.547679603099823 Batch_id=390 Accuracy=93.93: 100%|██████████| 391/391 [01:05<00:00,  6.63it/s]\n",
            "  0%|          | 0/391 [00:00<?, ?it/s]"
          ],
          "name": "stderr"
        },
        {
          "output_type": "stream",
          "text": [
            "\n",
            "Test set: Average loss: 0.0031, Accuracy: 8815/10000 (88.15%)\n",
            "\n",
            "EPOCH: 32\n"
          ],
          "name": "stdout"
        },
        {
          "output_type": "stream",
          "text": [
            "Loss=0.5574731230735779 Batch_id=390 Accuracy=93.91: 100%|██████████| 391/391 [01:05<00:00,  6.68it/s]\n",
            "  0%|          | 0/391 [00:00<?, ?it/s]"
          ],
          "name": "stderr"
        },
        {
          "output_type": "stream",
          "text": [
            "\n",
            "Test set: Average loss: 0.0035, Accuracy: 8702/10000 (87.02%)\n",
            "\n",
            "EPOCH: 33\n"
          ],
          "name": "stdout"
        },
        {
          "output_type": "stream",
          "text": [
            "Loss=0.5311502814292908 Batch_id=390 Accuracy=93.91: 100%|██████████| 391/391 [01:05<00:00,  6.77it/s]\n",
            "  0%|          | 0/391 [00:00<?, ?it/s]"
          ],
          "name": "stderr"
        },
        {
          "output_type": "stream",
          "text": [
            "\n",
            "Test set: Average loss: 0.0033, Accuracy: 8779/10000 (87.79%)\n",
            "\n",
            "EPOCH: 34\n"
          ],
          "name": "stdout"
        },
        {
          "output_type": "stream",
          "text": [
            "Loss=0.46517810225486755 Batch_id=390 Accuracy=93.79: 100%|██████████| 391/391 [01:05<00:00,  6.63it/s]\n",
            "  0%|          | 0/391 [00:00<?, ?it/s]"
          ],
          "name": "stderr"
        },
        {
          "output_type": "stream",
          "text": [
            "\n",
            "Test set: Average loss: 0.0047, Accuracy: 8379/10000 (83.79%)\n",
            "\n",
            "EPOCH: 35\n"
          ],
          "name": "stdout"
        },
        {
          "output_type": "stream",
          "text": [
            "Loss=0.4796636700630188 Batch_id=390 Accuracy=94.00: 100%|██████████| 391/391 [01:05<00:00,  6.74it/s]\n",
            "  0%|          | 0/391 [00:00<?, ?it/s]"
          ],
          "name": "stderr"
        },
        {
          "output_type": "stream",
          "text": [
            "\n",
            "Test set: Average loss: 0.0036, Accuracy: 8691/10000 (86.91%)\n",
            "\n",
            "EPOCH: 36\n"
          ],
          "name": "stdout"
        },
        {
          "output_type": "stream",
          "text": [
            "Loss=0.3671419322490692 Batch_id=390 Accuracy=94.33: 100%|██████████| 391/391 [01:05<00:00,  6.85it/s]\n",
            "  0%|          | 0/391 [00:00<?, ?it/s]"
          ],
          "name": "stderr"
        },
        {
          "output_type": "stream",
          "text": [
            "\n",
            "Test set: Average loss: 0.0027, Accuracy: 8977/10000 (89.77%)\n",
            "\n",
            "EPOCH: 37\n"
          ],
          "name": "stdout"
        },
        {
          "output_type": "stream",
          "text": [
            "Loss=0.5591409802436829 Batch_id=390 Accuracy=94.35: 100%|██████████| 391/391 [01:05<00:00,  6.74it/s]\n",
            "  0%|          | 0/391 [00:00<?, ?it/s]"
          ],
          "name": "stderr"
        },
        {
          "output_type": "stream",
          "text": [
            "\n",
            "Test set: Average loss: 0.0032, Accuracy: 8774/10000 (87.74%)\n",
            "\n",
            "EPOCH: 38\n"
          ],
          "name": "stdout"
        },
        {
          "output_type": "stream",
          "text": [
            "Loss=0.4410584568977356 Batch_id=390 Accuracy=94.30: 100%|██████████| 391/391 [01:05<00:00,  6.69it/s]\n",
            "  0%|          | 0/391 [00:00<?, ?it/s]"
          ],
          "name": "stderr"
        },
        {
          "output_type": "stream",
          "text": [
            "\n",
            "Test set: Average loss: 0.0033, Accuracy: 8776/10000 (87.76%)\n",
            "\n",
            "EPOCH: 39\n"
          ],
          "name": "stdout"
        },
        {
          "output_type": "stream",
          "text": [
            "Loss=0.4139367341995239 Batch_id=390 Accuracy=94.47: 100%|██████████| 391/391 [01:05<00:00,  6.71it/s]\n",
            "  0%|          | 0/391 [00:00<?, ?it/s]"
          ],
          "name": "stderr"
        },
        {
          "output_type": "stream",
          "text": [
            "\n",
            "Test set: Average loss: 0.0029, Accuracy: 8881/10000 (88.81%)\n",
            "\n",
            "EPOCH: 40\n"
          ],
          "name": "stdout"
        },
        {
          "output_type": "stream",
          "text": [
            "Loss=0.4648827910423279 Batch_id=390 Accuracy=94.80: 100%|██████████| 391/391 [01:05<00:00,  6.64it/s]\n",
            "  0%|          | 0/391 [00:00<?, ?it/s]"
          ],
          "name": "stderr"
        },
        {
          "output_type": "stream",
          "text": [
            "\n",
            "Test set: Average loss: 0.0028, Accuracy: 8964/10000 (89.64%)\n",
            "\n",
            "EPOCH: 41\n"
          ],
          "name": "stdout"
        },
        {
          "output_type": "stream",
          "text": [
            "Loss=0.3994772434234619 Batch_id=390 Accuracy=94.59: 100%|██████████| 391/391 [01:05<00:00,  6.73it/s]\n",
            "  0%|          | 0/391 [00:00<?, ?it/s]"
          ],
          "name": "stderr"
        },
        {
          "output_type": "stream",
          "text": [
            "\n",
            "Test set: Average loss: 0.0029, Accuracy: 8929/10000 (89.29%)\n",
            "\n",
            "EPOCH: 42\n"
          ],
          "name": "stdout"
        },
        {
          "output_type": "stream",
          "text": [
            "Loss=0.40095967054367065 Batch_id=390 Accuracy=94.97: 100%|██████████| 391/391 [01:05<00:00,  6.68it/s]\n",
            "  0%|          | 0/391 [00:00<?, ?it/s]"
          ],
          "name": "stderr"
        },
        {
          "output_type": "stream",
          "text": [
            "\n",
            "Test set: Average loss: 0.0027, Accuracy: 8983/10000 (89.83%)\n",
            "\n",
            "EPOCH: 43\n"
          ],
          "name": "stdout"
        },
        {
          "output_type": "stream",
          "text": [
            "Loss=0.4470791220664978 Batch_id=390 Accuracy=94.78: 100%|██████████| 391/391 [01:05<00:00,  6.64it/s]\n",
            "  0%|          | 0/391 [00:00<?, ?it/s]"
          ],
          "name": "stderr"
        },
        {
          "output_type": "stream",
          "text": [
            "\n",
            "Test set: Average loss: 0.0026, Accuracy: 9018/10000 (90.18%)\n",
            "\n",
            "EPOCH: 44\n"
          ],
          "name": "stdout"
        },
        {
          "output_type": "stream",
          "text": [
            "Loss=0.4821648597717285 Batch_id=390 Accuracy=95.19: 100%|██████████| 391/391 [01:05<00:00,  6.71it/s]\n",
            "  0%|          | 0/391 [00:00<?, ?it/s]"
          ],
          "name": "stderr"
        },
        {
          "output_type": "stream",
          "text": [
            "\n",
            "Test set: Average loss: 0.0031, Accuracy: 8839/10000 (88.39%)\n",
            "\n",
            "EPOCH: 45\n"
          ],
          "name": "stdout"
        },
        {
          "output_type": "stream",
          "text": [
            "Loss=0.4635390639305115 Batch_id=390 Accuracy=94.95: 100%|██████████| 391/391 [01:05<00:00,  6.68it/s]\n",
            "  0%|          | 0/391 [00:00<?, ?it/s]"
          ],
          "name": "stderr"
        },
        {
          "output_type": "stream",
          "text": [
            "\n",
            "Test set: Average loss: 0.0023, Accuracy: 9077/10000 (90.77%)\n",
            "\n",
            "EPOCH: 46\n"
          ],
          "name": "stdout"
        },
        {
          "output_type": "stream",
          "text": [
            "Loss=0.43542173504829407 Batch_id=390 Accuracy=95.14: 100%|██████████| 391/391 [01:05<00:00,  6.66it/s]\n",
            "  0%|          | 0/391 [00:00<?, ?it/s]"
          ],
          "name": "stderr"
        },
        {
          "output_type": "stream",
          "text": [
            "\n",
            "Test set: Average loss: 0.0032, Accuracy: 8885/10000 (88.85%)\n",
            "\n",
            "EPOCH: 47\n"
          ],
          "name": "stdout"
        },
        {
          "output_type": "stream",
          "text": [
            "Loss=0.48876023292541504 Batch_id=390 Accuracy=95.17: 100%|██████████| 391/391 [01:05<00:00,  6.72it/s]\n",
            "  0%|          | 0/391 [00:00<?, ?it/s]"
          ],
          "name": "stderr"
        },
        {
          "output_type": "stream",
          "text": [
            "\n",
            "Test set: Average loss: 0.0030, Accuracy: 8936/10000 (89.36%)\n",
            "\n",
            "EPOCH: 48\n"
          ],
          "name": "stdout"
        },
        {
          "output_type": "stream",
          "text": [
            "Loss=0.49678105115890503 Batch_id=390 Accuracy=95.21: 100%|██████████| 391/391 [01:05<00:00,  6.75it/s]\n",
            "  0%|          | 0/391 [00:00<?, ?it/s]"
          ],
          "name": "stderr"
        },
        {
          "output_type": "stream",
          "text": [
            "\n",
            "Test set: Average loss: 0.0028, Accuracy: 8957/10000 (89.57%)\n",
            "\n",
            "EPOCH: 49\n"
          ],
          "name": "stdout"
        },
        {
          "output_type": "stream",
          "text": [
            "Loss=0.4407842755317688 Batch_id=390 Accuracy=95.28: 100%|██████████| 391/391 [01:05<00:00,  6.82it/s]\n",
            "  0%|          | 0/391 [00:00<?, ?it/s]"
          ],
          "name": "stderr"
        },
        {
          "output_type": "stream",
          "text": [
            "\n",
            "Test set: Average loss: 0.0029, Accuracy: 8995/10000 (89.95%)\n",
            "\n",
            "EPOCH: 50\n"
          ],
          "name": "stdout"
        },
        {
          "output_type": "stream",
          "text": [
            "Loss=0.3515792191028595 Batch_id=390 Accuracy=95.50: 100%|██████████| 391/391 [01:05<00:00,  6.70it/s]\n"
          ],
          "name": "stderr"
        },
        {
          "output_type": "stream",
          "text": [
            "\n",
            "Test set: Average loss: 0.0028, Accuracy: 8977/10000 (89.77%)\n",
            "\n",
            "\n",
            " Saving trained model...\n",
            "\n",
            " Visualizing:\n"
          ],
          "name": "stdout"
        },
        {
          "output_type": "display_data",
          "data": {
            "image/png": "[encoded data removed]",
            "text/plain": [
              "<Figure size 1080x720 with 4 Axes>"
            ]
          },
          "metadata": {
            "tags": []
          }
        }
      ]
    },
    {
      "cell_type": "markdown",
      "metadata": {
        "id": "plcmhXIz-feI",
        "colab_type": "text"
      },
      "source": [
        "# Observations\n",
        "---\n",
        "\n",
        "1) Without any regularization and image augmentation, Resnet18 was barely able to consistently maintain 85% under 50 epochs. The model was overfitted.\n",
        "\n",
        "![alt text](https://raw.githubusercontent.com/genigarus/EVA4/master/S8/Assets/no_reg_resnet18_loss.PNG)\n",
        "\n",
        "\n",
        "2) Using L2 regularization and image augmentation, overfitting was reduced by 3%. Also, the loss graph became smoother and the model was able to consistenly maintain 90%.\n",
        "\n",
        "![alt text](https://raw.githubusercontent.com/genigarus/EVA4/master/S8/Assets/l2_reg_resnet18_loss.PNG)\n",
        "\n",
        "3) Extending this further, I tried using both L1 and L2 for regularization along with image augmentation. This further reduced overfitting by 1.5%.\n",
        "\n",
        "![alt text](https://raw.githubusercontent.com/genigarus/EVA4/master/S8/Assets/l1_l2_reg_resnet18_loss.PNG)\n"
      ]
    }
  ]
}
